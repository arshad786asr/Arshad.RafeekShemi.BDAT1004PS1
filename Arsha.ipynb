{
 "cells": [
  {
   "cell_type": "markdown",
   "id": "5779e5bd",
   "metadata": {},
   "source": [
    "# QUESTION 1\n",
    "## Data Type"
   ]
  },
  {
   "cell_type": "markdown",
   "id": "669e718a",
   "metadata": {},
   "source": [
    " 5  = int <br/>\n",
    " 5.0  =  float <br/>\n",
    " 5 > 1 =  bool <br/>\n",
    " '5' =  str <br/>\n",
    " 5*2 =  int <br/>\n",
    " '5' * 2  =  str <br/>\n",
    " '5' + '2' =  int <br/>\n",
    " 5/2 =  float <br/>\n",
    " 5%2 =  int <br/>\n",
    " {5,2,1} =  set <br/>\n",
    " 5==3  =  bool <br/>\n",
    " pi =  float"
   ]
  },
  {
   "cell_type": "markdown",
   "id": "ef2878c3",
   "metadata": {},
   "source": [
    "# Question 2"
   ]
  },
  {
   "cell_type": "code",
   "execution_count": 2,
   "id": "3229ef63",
   "metadata": {},
   "outputs": [
    {
     "name": "stdout",
     "output_type": "stream",
     "text": [
      "a) The number of letters in 'Supercalifragisticexpialidocious' is 32\n",
      "b) Yes, the substring 'ice'is present \n",
      "c) The longest word is Bababadalgharaghtakamminarronnkonn\n",
      "d) The first name in the dictionary is  Bartok and the last name in the dictionary is Buxtehude\n"
     ]
    }
   ],
   "source": [
    "string wrd = \"Supercalifragisticexpialidocious\";\n",
    "Console.WriteLine(\"a) The number of letters in '{0}' is {1}\", wrd,wrd.Length);\n",
    "\n",
    "if(wrd.Contains(\"ice\"))\n",
    "{\n",
    "Console.WriteLine(\"b) Yes, the substring '{0}'is present \", \"ice\");\n",
    "}\n",
    "else\n",
    "{\n",
    "Console.WriteLine(\"b) No, the substring'{0} is not present \", \"ice\");\n",
    "}\n",
    "\n",
    "\n",
    "string wrd1 = \"upercalifragilisticexpialidocious\";\n",
    "string wrd2 = \"Honorificabilitudinitatibus\";\n",
    "string wrd3 = \"Bababadalgharaghtakamminarronnkonn\";\n",
    "if (wrd1.Length > wrd2.Length)\n",
    "{\n",
    "    if(wrd1.Length > wrd3.Length)\n",
    "    {\n",
    "        Console.WriteLine(\"c) The longest word is {0}\", wrd1);\n",
    "    }\n",
    "    else\n",
    "    {\n",
    "       Console.WriteLine(\"c) The longest word is {0}\", wrd3); \n",
    "    }\n",
    "}\n",
    "else\n",
    "{\n",
    "     if(wrd2.Length > wrd3.Length)\n",
    "    {\n",
    "        Console.WriteLine(\"c) The longest word is {0}\", wrd2);\n",
    "    }\n",
    "    else\n",
    "    {\n",
    "       Console.WriteLine(\"c) The longest word is {0}\", wrd3); \n",
    "    }\n",
    "}\n",
    "\n",
    "\n",
    "string[] names =  {\"Berlioz\", \"Borodin\", \"Brian\", \"Bartok\", \"Bellini\", \"Buxtehude\", \"Bernstein\"};\n",
    "Array.Sort(names);\n",
    "Console.WriteLine(\"d) The first name in the dictionary is  {0} and the last name in the dictionary is {1}\", names[0],names[names.Length - 1]);"
   ]
  },
  {
   "cell_type": "markdown",
   "id": "03cf38ae",
   "metadata": {},
   "source": [
    "# Question 3"
   ]
  },
  {
   "cell_type": "code",
   "execution_count": 6,
   "id": "8c4a5eee",
   "metadata": {},
   "outputs": [
    {
     "name": "stdout",
     "output_type": "stream",
     "text": [
      "1.7320508075688772\r\n"
     ]
    }
   ],
   "source": [
    "static void triangleArea(int a, int b,int c) \n",
    "{\n",
    "  double s = (a+b+c)/2;\n",
    "  Console.WriteLine (Math.Sqrt(s*(s-a*(s-b*(s-c)))));\n",
    "}\n",
    "triangleArea(2,2,2);"
   ]
  },
  {
   "cell_type": "markdown",
   "id": "1deeefe1",
   "metadata": {},
   "source": [
    "# Question 4"
   ]
  },
  {
   "cell_type": "code",
   "execution_count": 7,
   "id": "8737f6bd",
   "metadata": {},
   "outputs": [
    {
     "name": "stdout",
     "output_type": "stream",
     "text": [
      "The odd elements are\n",
      "25 47 \n",
      "The odd elements are\n",
      "42 56 32 "
     ]
    }
   ],
   "source": [
    "/*program to seperate odd and even integer arrays */\n",
    "\n",
    "int a = 5 , counta = 0, countb=0;\n",
    "int[] numbers = {25,47,42,56,32};\n",
    "int[] odd = new int[2] ;\n",
    "int[] even = new int[3] ;\n",
    "\n",
    "foreach (int i in numbers)\n",
    "{\n",
    "   if (i%2 == 0)\n",
    "   {\n",
    "       even[counta++] = i;\n",
    "   }\n",
    "    else\n",
    "    {\n",
    "       odd[countb++] = i;\n",
    "    }\n",
    "}\n",
    "Console.WriteLine(\"The odd elements are\");\n",
    "foreach (int j in odd)\n",
    "{\n",
    "    Console.Write(j+\" \");      \n",
    "}\n",
    "\n",
    "Console.WriteLine( \"\\nThe odd elements are\");\n",
    "foreach (int k in even)\n",
    "{\n",
    "    Console.Write(k +\" \");      \n",
    "}"
   ]
  },
  {
   "cell_type": "markdown",
   "id": "a3c279b5",
   "metadata": {},
   "source": [
    "# Question 5"
   ]
  },
  {
   "cell_type": "code",
   "execution_count": 8,
   "id": "45f12b56",
   "metadata": {},
   "outputs": [
    {
     "name": "stdout",
     "output_type": "stream",
     "text": [
      "True\n",
      "False\n",
      "True\n"
     ]
    }
   ],
   "source": [
    "public static void inside(double x,double y,double x1,double y1,double x2,double y2) \n",
    "{\n",
    "  if(x>x1 & y>y1)\n",
    "  {\n",
    "      if( x<x2 & y<y2)\n",
    "      {\n",
    "         Console.WriteLine(\"True\"); \n",
    "      }\n",
    "      \n",
    "  }\n",
    "    \n",
    "  else\n",
    "  {\n",
    "      Console.WriteLine(\"False\");\n",
    "  }\n",
    "}\n",
    "\n",
    "inside(1,1,0,0,2,3);\n",
    "inside(-1,-1,0,0,2,3);\n",
    "\n",
    "inside(1,1,0.3,0.5,1.1,0.7);\n",
    "inside(1,1,0.5,0.2,1.1,2);"
   ]
  },
  {
   "cell_type": "markdown",
   "id": "2965af76",
   "metadata": {},
   "source": [
    "# Question 6"
   ]
  },
  {
   "cell_type": "code",
   "execution_count": 1,
   "id": "c363c308",
   "metadata": {},
   "outputs": [
    {
     "name": "stdout",
     "output_type": "stream",
     "text": [
      "appyhay\n",
      "enterway\n"
     ]
    }
   ],
   "source": [
    "def pig(word):\n",
    "    vowels = ['A', 'E', 'I', 'O', 'U','a', 'e', 'i', 'o', 'u' ]\n",
    "    if(word[0] in vowels):\n",
    "        word = word.lower() + \"way\"\n",
    "    else:\n",
    "       word =  word[1:].lower() + word[0].lower() + \"ay\"\n",
    "    print(word)\n",
    "pig(\"happy\")\n",
    "pig(\"Enter\")"
   ]
  },
  {
   "cell_type": "code",
   "execution_count": null,
   "id": "662480a9",
   "metadata": {},
   "outputs": [],
   "source": []
  },
  {
   "cell_type": "code",
   "execution_count": null,
   "id": "4678b127",
   "metadata": {},
   "outputs": [],
   "source": []
  },
  {
   "cell_type": "markdown",
   "id": "32e6b3fd",
   "metadata": {},
   "source": [
    "# Question 7"
   ]
  },
  {
   "cell_type": "code",
   "execution_count": 1,
   "id": "dc381a5b",
   "metadata": {},
   "outputs": [
    {
     "name": "stdout",
     "output_type": "stream",
     "text": [
      "There are 15 patients of blood type A.\n",
      "There are 1 patients of blood type B.\n",
      "There are 13 patients of blood type AB.\n",
      "There are 15 patients of blood type O.\n",
      "There are 0 patients of blood type OO.\n"
     ]
    }
   ],
   "source": [
    "def bldcount(name):\n",
    "    with open(name, 'r') as file:\n",
    "        data = file.read().rstrip()\n",
    "        data_list = data.split()\n",
    "        print(\"There are \" + str(data_list.count(\"A\")) + \" patients of blood type A.\")\n",
    "        print(\"There are \" + str(data_list.count(\"B\")) + \" patients of blood type B.\")\n",
    "        print(\"There are \" + str(data_list.count(\"AB\")) + \" patients of blood type AB.\")\n",
    "        print(\"There are \" + str(data_list.count(\"O\")) + \" patients of blood type O.\")\n",
    "        print(\"There are \" + str(data_list.count(\"OO\")) + \" patients of blood type OO.\")\n",
    "        \n",
    "bldcount('bloodtype.txt')"
   ]
  },
  {
   "cell_type": "code",
   "execution_count": null,
   "id": "a7334f3c",
   "metadata": {},
   "outputs": [],
   "source": []
  },
  {
   "cell_type": "code",
   "execution_count": null,
   "id": "c23536b1",
   "metadata": {},
   "outputs": [],
   "source": []
  },
  {
   "cell_type": "markdown",
   "id": "4b7f0bb3",
   "metadata": {},
   "source": [
    "# Question 8"
   ]
  },
  {
   "cell_type": "code",
   "execution_count": 2,
   "id": "19b217fd",
   "metadata": {},
   "outputs": [
    {
     "name": "stdout",
     "output_type": "stream",
     "text": [
      "122.96544\n",
      "1.241401\n"
     ]
    }
   ],
   "source": [
    "def curconv(name , amount):\n",
    "    dict = {}\n",
    "    with open(\"currencies.txt\", 'r') as file:   \n",
    "        for l in file:\n",
    "            (key,value,country_name) = l.split(\"\\t\")\n",
    "            dict[key] = value\n",
    "        conv_amount = amount * float(dict[name])\n",
    "        print(conv_amount)\n",
    "    \n",
    "curconv('EUR',100)\n",
    "curconv('JPY',100)"
   ]
  },
  {
   "cell_type": "code",
   "execution_count": null,
   "id": "96c6176a",
   "metadata": {},
   "outputs": [],
   "source": []
  },
  {
   "cell_type": "markdown",
   "id": "064e5252",
   "metadata": {},
   "source": [
    "# Question 9"
   ]
  },
  {
   "cell_type": "markdown",
   "id": "bda281f6",
   "metadata": {},
   "source": [
    "#### 1) Type error \n",
    "#### 2) Index Error \n",
    "#### 3) Type error \n",
    "#### 4) Name Error \n",
    "#### 5) File Not Found Error\n"
   ]
  },
  {
   "cell_type": "markdown",
   "id": "a954ce35",
   "metadata": {},
   "source": [
    "# Question 10"
   ]
  },
  {
   "cell_type": "code",
   "execution_count": 3,
   "id": "e26c8518",
   "metadata": {},
   "outputs": [
    {
     "name": "stdout",
     "output_type": "stream",
     "text": [
      "[1, 1, 1, 3, 5, 1, 1, 2, 1, 0, 1, 0, 1, 2, 4, 0, 1, 2, 0, 2, 1, 0, 1, 1, 0, 0]\n",
      "[1, 0, 0, 0, 1, 0, 0, 0, 0, 0, 0, 1, 0, 0, 0, 2, 0, 0, 0, 0, 0, 0, 0, 0, 0, 0]\n"
     ]
    }
   ],
   "source": [
    "def frequencies(sentence):\n",
    "    letters = 'abcdefghijklmnopqrstuvwxyz'\n",
    "    char_freq = list()\n",
    "    for i in letters:\n",
    "        char_freq.append(sentence.count(i))\n",
    "    print(char_freq)    \n",
    "frequencies(\"The quick red fox got bored and went home.\")\n",
    "frequencies('apple')"
   ]
  },
  {
   "cell_type": "code",
   "execution_count": null,
   "id": "0479e2d6",
   "metadata": {},
   "outputs": [],
   "source": []
  },
  {
   "cell_type": "code",
   "execution_count": null,
   "id": "1a298c0c",
   "metadata": {},
   "outputs": [],
   "source": []
  }
 ],
 "metadata": {
  "kernelspec": {
   "display_name": "Python 3 (ipykernel)",
   "language": "python",
   "name": "python3"
  },
  "language_info": {
   "codemirror_mode": {
    "name": "ipython",
    "version": 3
   },
   "file_extension": ".py",
   "mimetype": "text/x-python",
   "name": "python",
   "nbconvert_exporter": "python",
   "pygments_lexer": "ipython3",
   "version": "3.9.12"
  }
 },
 "nbformat": 4,
 "nbformat_minor": 5
}
